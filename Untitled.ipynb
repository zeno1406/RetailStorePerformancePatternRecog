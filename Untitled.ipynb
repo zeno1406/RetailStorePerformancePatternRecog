{
 "cells": [
  {
   "cell_type": "markdown",
   "id": "fe529f0e-ed46-47e5-9c97-4803a2e2e3e7",
   "metadata": {},
   "source": [
    "# START"
   ]
  },
  {
   "cell_type": "markdown",
   "id": "bf2c7c20-4fa2-493c-81fc-b4d541789fc8",
   "metadata": {},
   "source": [
    "Tên của dataset: Retail Store Performance"
   ]
  },
  {
   "cell_type": "markdown",
   "id": "a288fd4f-9351-44af-ba0f-687e7112ecd1",
   "metadata": {},
   "source": [
    "Insights into Retail Store Dynamics"
   ]
  },
  {
   "cell_type": "code",
   "execution_count": null,
   "id": "3e356ef5-e6a9-4e60-9a2e-2b625e6c38f3",
   "metadata": {},
   "outputs": [],
   "source": []
  },
  {
   "cell_type": "markdown",
   "id": "ffc802ce-d2a7-468a-b7cf-7ce7fce8d766",
   "metadata": {},
   "source": [
    "# END"
   ]
  }
 ],
 "metadata": {
  "kernelspec": {
   "display_name": "Python 3 (ipykernel)",
   "language": "python",
   "name": "python3"
  },
  "language_info": {
   "codemirror_mode": {
    "name": "ipython",
    "version": 3
   },
   "file_extension": ".py",
   "mimetype": "text/x-python",
   "name": "python",
   "nbconvert_exporter": "python",
   "pygments_lexer": "ipython3",
   "version": "3.9.20"
  }
 },
 "nbformat": 4,
 "nbformat_minor": 5
}
